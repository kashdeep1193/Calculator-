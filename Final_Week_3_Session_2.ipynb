{
  "cells": [
    {
      "cell_type": "markdown",
      "metadata": {
        "id": "view-in-github",
        "colab_type": "text"
      },
      "source": [
        "<a href=\"https://colab.research.google.com/github/kashdeep1193/Calculator-/blob/main/Final_Week_3_Session_2.ipynb\" target=\"_parent\"><img src=\"https://colab.research.google.com/assets/colab-badge.svg\" alt=\"Open In Colab\"/></a>"
      ]
    },
    {
      "cell_type": "markdown",
      "metadata": {
        "id": "34pJadfXXY83"
      },
      "source": [
        "<h2 style = \"color:Brown\">Logic Building - II"
      ]
    },
    {
      "cell_type": "markdown",
      "metadata": {
        "id": "yQxDFuLUXY84"
      },
      "source": [
        "This part consists of some good practise problems to help you have a good hands on the concepts till now."
      ]
    },
    {
      "cell_type": "markdown",
      "metadata": {
        "id": "esLZWr0nXY84"
      },
      "source": [
        "## Alarm Clock\n",
        "Do you wake up at the same time every morning? No, right? If it is a normal working day where you're swamped with work and meetings starting early morning, you try to wake up as soon as possible. If it is a weekend or a vacation day, you mostly want to give yourself some extra rest, right? Now, you might set alarms for this manually periodically depending on what day it is. Instead of manually setting up an alarm, what if you try to write a code that automates the time the alarm goes off. If there was some way for the alarm to know the kind of day it is, it would automatically ring according to the preferences set by you. Let's attempt to do this.\n",
        "\n",
        "So the problem statement is, you're trying to automate your alarm clock by writing a function for it. You're given a day of the week encoded as 1 = Mon, 2 = Tue, ..., 6 = Sat, 7 = Sun, and whether you are on vacation as a boolean value (a boolean object is either True or False. Google \"booleans Python\" to get a better understanding).\n",
        "\n",
        "Based on the day and whether you're on vacation, write a function that returns a time in form of a string indicating when the alarm clock should ring.\n",
        "\n",
        "When not on a vacation, on weekdays, the alarm should ring at \"7:00\" and on the weekends (Saturday and Sunday) it should ring at \"10:00\".\n",
        "\n",
        "While on a vacation, it should ring at \"10:00\" on weekdays. On vacation, it should not ring on weekends, i.e., it should return \"off\"."
      ]
    },
    {
      "cell_type": "code",
      "execution_count": null,
      "metadata": {
        "id": "wSpjcbv5XY85"
      },
      "outputs": [],
      "source": [
        "#Take input here\n",
        "#we will take input using ast sys\n",
        "import ast\n",
        "input_str = input()\n",
        "\n",
        "#ast.literal_eval() will evaluate the string and make a data structure for the same\n",
        "#here the input is a list since input is in '[...]', so ast.literal_eval() will\n",
        "#make a list with the same data as passed\n",
        "input_list = ast.literal_eval(input_str)\n",
        "\n",
        "#the data or the two values in list is now changed to separate variables\n",
        "day_of_the_week = input_list[0] #first element is an integer denoting the day of the week\n",
        "is_on_vacation = input_list[1] #this is a boolean denoting if its vacation or not\n",
        "\n",
        "# write your code here\n",
        "def alarm_time(day_of_the_week, is_on_vacation):\n",
        "    weekend=[6,7]\n",
        "    if is_on_vacation and day_of_the_week not in weekend:\n",
        "        print(\"10:00\")\n",
        "    elif is_on_vacation and day_of_the_week in weekend:\n",
        "        print(\"off\")\n",
        "    elif not is_on_vacation and day_of_the_week not in weekend:\n",
        "        print(\"7:00\")\n",
        "    else:\n",
        "        print(\"10:00\")\n",
        "\n",
        "alarm_time(day_of_the_week, is_on_vacation)"
      ]
    },
    {
      "cell_type": "markdown",
      "metadata": {
        "id": "B1pqEwqgXY86"
      },
      "source": [
        "## Printing a pattern\n",
        "Pattern printing is an exercise done frequently to learn and master loop iterations. This type of exercise is recommended for all new coders and professionals.\n",
        "Given a positive integer, you have to print the pattern as illustrated. We recommend solving a lot more of these types of problems on your own."
      ]
    },
    {
      "cell_type": "code",
      "execution_count": null,
      "metadata": {
        "id": "WnGvM0iJXY86"
      },
      "outputs": [],
      "source": [
        "#please take input here\n",
        "n = int(input())\n",
        "\n",
        "#start writing your code here\n",
        "for i in range(1,n+1):\n",
        "    for j in range(n-i):\n",
        "        print(' ',end='')\n",
        "    for k in range(i-1):\n",
        "        print('*_',end='')\n",
        "    print('*')\n"
      ]
    },
    {
      "cell_type": "markdown",
      "metadata": {
        "id": "WG-P8AV1XY86"
      },
      "source": [
        "## Recruit New Members\n",
        "Suppose you are the manager of a big firm and are looking to hire new members for your team. You published an advertisement and have received a few applications.\n",
        "\n",
        "You rate people on a scale of 0 to 100 and have given scores to all the members of your team and the new applicants. The selection process is very straightforward - if the applicant improves the average of the team then you hire the applicant or else reject the applicant. Remember the order of processing applications is going to be important here."
      ]
    },
    {
      "cell_type": "code",
      "execution_count": null,
      "metadata": {
        "id": "gdE4JfItXY86"
      },
      "outputs": [],
      "source": [
        "#you have to take input on your own here\n",
        "\n",
        "import ast\n",
        "\n",
        "team = ast.literal_eval(input())\n",
        "applicant = ast.literal_eval(input())\n",
        "\n",
        "#write your code here\n",
        "def check_above_average(data, check):\n",
        "    # s=0\n",
        "    # for item in data:\n",
        "    #     s = s+ item\n",
        "    s = sum(data)\n",
        "    avg = s/len(data)\n",
        "    if check > avg:\n",
        "        return 1\n",
        "    else:\n",
        "        return 0\n",
        "\n",
        "for appl in applicant:\n",
        "    is_add = check_above_average(team,appl)\n",
        "    if is_add==1:\n",
        "        team.append(appl)\n",
        "\n",
        "print(team)"
      ]
    },
    {
      "cell_type": "markdown",
      "metadata": {
        "id": "zf9koU46XY86"
      },
      "source": [
        "## Fenced Matrix\n",
        "You will be given two positive integers m and n. You have to make a list of lists (which can be visualised as a matrix) of size m*n, that is m sublists (rows), with each sublist having n integers (columns).\n",
        "\n",
        "The matrix should be such that it should have 1 on the border and 0 everywhere else.\n",
        "\n",
        "Sample input 1:\n",
        "4,5\n",
        "\n",
        "Sample output 1:\n",
        "[1, 1, 1, 1, 1]\n",
        "[1, 0, 0, 0, 1]\n",
        "[1, 0, 0, 0, 1]\n",
        "[1, 1, 1, 1, 1]\n",
        "\n",
        "Sample input 2:\n",
        "3,3\n",
        "\n",
        "Sample output 2:\n",
        "[1, 1, 1]\n",
        "[1, 0, 1]\n",
        "[1, 1, 1]"
      ]
    },
    {
      "cell_type": "code",
      "execution_count": null,
      "metadata": {
        "id": "bfNxZKgKXY86"
      },
      "outputs": [],
      "source": [
        "in_str=input()\n",
        "in_str=in_str.split(',')\n",
        "m=int(in_str[0])\n",
        "n=int(in_str[1])\n",
        "\n",
        "#make a list with n zeroes\n",
        "final=[0]*n\n",
        "\n",
        "#make a matrix of m such lists\n",
        "final=[list(final) for i in range(m)]\n",
        "for i in range(m):\n",
        "    for j in range(n):\n",
        "        if i==0 or j==0 or i==m-1 or j==n-1:\n",
        "            final[i][j]=1\n",
        "\n",
        "#print in the fashion as shown in Sample output\n",
        "for i in final:\n",
        "    print(i)"
      ]
    },
    {
      "cell_type": "markdown",
      "metadata": {
        "id": "0sdHqqh9XY86"
      },
      "source": [
        "## Common Prefix\n",
        "You will be given two strings. You have to find the largest prefix common in both the strings.\n",
        "\n",
        "Sample input 1:\n",
        "abshdksajd\n",
        "abshiehand\n",
        "\n",
        "Sample output 1:\n",
        "absh\n",
        "\n",
        "Sample input 2:\n",
        "upgradData\n",
        "upGradScience\n",
        "\n",
        "Sample output 2:\n",
        "upgrad"
      ]
    },
    {
      "cell_type": "code",
      "execution_count": null,
      "metadata": {
        "id": "P9bmYeN5XY86"
      },
      "outputs": [],
      "source": [
        "#input has been taken for you\n",
        "\n",
        "string1=input()\n",
        "string2=input()\n",
        "\n",
        "#make them all lower\n",
        "string1 = string1.lower()\n",
        "string2 = string2.lower()\n",
        "\n",
        "#start writing your code to find largest common prefix here\n",
        "#first we find the length of smaller string as that can be the longest prefix possible\n",
        "#checking beyond that is pointless\n",
        "l1 = len(string1)\n",
        "l2 = len(string2)\n",
        "min_len = min(l1,l2)\n",
        "\n",
        "#we will check all characters one by one upto min_len in both strings and\n",
        "#break the loop whereever we find that they are not matching\n",
        "for i in range(min_len):\n",
        "    if string1[i] != string2[i]:\n",
        "        break\n",
        "#if i is zero, that means first element is not matching\n",
        "#value of i here indicate what index is not matching\n",
        "if i==0:\n",
        "    print(-1)\n",
        "#if there is atleast one matching prefixx string\n",
        "#if one of the strings entirely becomes a prefix of another, for loop will end when i=min_len-1\n",
        "#Hence we need to increase i by 1 to print string1[:min_len]\n",
        "elif i==min_len-1:\n",
        "    print(string1[:i+1])\n",
        "else:\n",
        "    print(string1[:i])\n"
      ]
    }
  ],
  "metadata": {
    "kernelspec": {
      "display_name": "Python 3.10.3 64-bit",
      "language": "python",
      "name": "python3"
    },
    "language_info": {
      "name": "python",
      "version": "3.10.3"
    },
    "orig_nbformat": 4,
    "vscode": {
      "interpreter": {
        "hash": "600e5dfc7548bf1a7dbf1ce56dffde4cc2022c36a863916f16fbf41298a3bf62"
      }
    },
    "colab": {
      "provenance": [],
      "include_colab_link": true
    }
  },
  "nbformat": 4,
  "nbformat_minor": 0
}